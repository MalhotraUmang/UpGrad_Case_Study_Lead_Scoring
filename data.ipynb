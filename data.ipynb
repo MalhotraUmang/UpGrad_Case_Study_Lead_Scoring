{
 "cells": [
  {
   "cell_type": "markdown",
   "id": "e224a31d-876e-4acf-a556-f2878e6a4557",
   "metadata": {},
   "source": [
    "# Problem Description"
   ]
  },
  {
   "cell_type": "markdown",
   "id": "994d8dfc-2823-421a-b80e-0ef242a73484",
   "metadata": {
    "jp-MarkdownHeadingCollapsed": true
   },
   "source": [
    "## Background\n",
    "\n",
    "X Education company, who sells online courses to industry professionals, gets its initial leads from online marketing on various websites. Leads implies people who might be interested to join their courses.\n",
    "\n",
    "The company wishes to identify the most potential leads i.e. Hot Leads, some of which get converted and join their courses.\n",
    "\n",
    "With this information, the sales team can focus more on communicating with the hot leads rather than making calls to everyone (from the pool of initial leads).\n",
    "\n",
    "Their current lead conversion rate is quite poor i.e. 30%.\n",
    "\n",
    "The CEO has given a target to increase their lead conversion rate to 80%.\n",
    "\n",
    "For this, a model needs to be built which assigns lead score to each of the leads.\n",
    "A customer assigned with a higher lead score would mean a higher conversion chance and \n",
    "a customer assigned with a lower lead score would mean a lower conversion chance.\n"
   ]
  },
  {
   "cell_type": "markdown",
   "id": "0b012278-ff10-4379-905a-7c371003b922",
   "metadata": {
    "jp-MarkdownHeadingCollapsed": true
   },
   "source": [
    "## Data\n",
    "\n",
    "There are 9000 data points with various feature variables such as Lead Source, Total Time Spent on Website, Total Visits, Last Activity, etc in the given 'leads' dataset.\n",
    "\n",
    "The target attribute is 'Converted' which carries a value 1 or 0 with following meaning.\n",
    "- 1: Lead was converted\n",
    "- 0: Lead wasn't converted\n"
   ]
  },
  {
   "cell_type": "markdown",
   "id": "3c10b9fd-e202-422e-bac5-161d62081344",
   "metadata": {},
   "source": [
    "## Goal\n",
    "\n",
    "Build a logistic ML model which assigns a lead score between 0 to 100 to each of the leads.\n",
    "- A higher lead score would indicate a hot lead and a lower score implies a cold lead.\n",
    "- The 'converted' column will finally have values 1 or 0 against each of the leads.\n"
   ]
  },
  {
   "cell_type": "code",
   "execution_count": null,
   "id": "31a7cf13-86c5-4df7-b204-e643f1a9f5f6",
   "metadata": {},
   "outputs": [],
   "source": []
  }
 ],
 "metadata": {
  "kernelspec": {
   "display_name": "Python 3 (ipykernel)",
   "language": "python",
   "name": "python3"
  },
  "language_info": {
   "codemirror_mode": {
    "name": "ipython",
    "version": 3
   },
   "file_extension": ".py",
   "mimetype": "text/x-python",
   "name": "python",
   "nbconvert_exporter": "python",
   "pygments_lexer": "ipython3",
   "version": "3.12.4"
  }
 },
 "nbformat": 4,
 "nbformat_minor": 5
}
